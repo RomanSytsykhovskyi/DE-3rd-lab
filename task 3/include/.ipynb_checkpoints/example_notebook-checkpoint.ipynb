{
 "cells": [
  {
   "cell_type": "code",
   "execution_count": 1,
   "id": "2709ce02",
   "metadata": {},
   "outputs": [
    {
     "name": "stdout",
     "output_type": "stream",
     "text": [
      "Hello From Airflow!\n"
     ]
    }
   ],
   "source": [
    "print(\"Hello From Airflow!\")"
   ]
  },
  {
   "cell_type": "code",
   "execution_count": 2,
   "id": "894dbbb0",
   "metadata": {},
   "outputs": [],
   "source": [
    "#this cell has parametr\n",
    "execution_date = \"20210707\""
   ]
  },
  {
   "cell_type": "code",
   "execution_count": 3,
   "id": "046e59cf",
   "metadata": {},
   "outputs": [
    {
     "name": "stdout",
     "output_type": "stream",
     "text": [
      "The current date is 20210707\n"
     ]
    }
   ],
   "source": [
    "print(\"The current date is\", execution_date)"
   ]
  },
  {
   "cell_type": "code",
   "execution_count": null,
   "id": "2d6e6e22",
   "metadata": {},
   "outputs": [],
   "source": []
  }
 ],
 "metadata": {
  "kernelspec": {
   "display_name": "Python 3 (ipykernel)",
   "language": "python",
   "name": "python3"
  },
  "language_info": {
   "codemirror_mode": {
    "name": "ipython",
    "version": 3
   },
   "file_extension": ".py",
   "mimetype": "text/x-python",
   "name": "python",
   "nbconvert_exporter": "python",
   "pygments_lexer": "ipython3",
   "version": "3.9.7"
  }
 },
 "nbformat": 4,
 "nbformat_minor": 5
}
